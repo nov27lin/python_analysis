{
  "nbformat": 4,
  "nbformat_minor": 0,
  "metadata": {
    "colab": {
      "provenance": [],
      "include_colab_link": true
    },
    "kernelspec": {
      "name": "python3",
      "display_name": "Python 3"
    },
    "language_info": {
      "name": "python"
    }
  },
  "cells": [
    {
      "cell_type": "markdown",
      "metadata": {
        "id": "view-in-github",
        "colab_type": "text"
      },
      "source": [
        "<a href=\"https://colab.research.google.com/github/nov27lin/python_analysis/blob/main/lesson7_1.ipynb\" target=\"_parent\"><img src=\"https://colab.research.google.com/assets/colab-badge.svg\" alt=\"Open In Colab\"/></a>"
      ]
    },
    {
      "cell_type": "code",
      "source": [
        "!pip install requests bs4 pandas matplotlib wget"
      ],
      "metadata": {
        "colab": {
          "base_uri": "https://localhost:8080/"
        },
        "id": "7NduRyZWWqRk",
        "outputId": "064d7016-396d-4dd5-84ea-05d70ced4c60"
      },
      "execution_count": null,
      "outputs": [
        {
          "output_type": "stream",
          "name": "stdout",
          "text": [
            "Requirement already satisfied: requests in /usr/local/lib/python3.11/dist-packages (2.32.3)\n",
            "Collecting bs4\n",
            "  Downloading bs4-0.0.2-py2.py3-none-any.whl.metadata (411 bytes)\n",
            "Requirement already satisfied: pandas in /usr/local/lib/python3.11/dist-packages (2.2.2)\n",
            "Requirement already satisfied: matplotlib in /usr/local/lib/python3.11/dist-packages (3.10.0)\n",
            "Collecting wget\n",
            "  Downloading wget-3.2.zip (10 kB)\n",
            "  Preparing metadata (setup.py) ... \u001b[?25l\u001b[?25hdone\n",
            "Requirement already satisfied: charset-normalizer<4,>=2 in /usr/local/lib/python3.11/dist-packages (from requests) (3.4.1)\n",
            "Requirement already satisfied: idna<4,>=2.5 in /usr/local/lib/python3.11/dist-packages (from requests) (3.10)\n",
            "Requirement already satisfied: urllib3<3,>=1.21.1 in /usr/local/lib/python3.11/dist-packages (from requests) (2.3.0)\n",
            "Requirement already satisfied: certifi>=2017.4.17 in /usr/local/lib/python3.11/dist-packages (from requests) (2025.1.31)\n",
            "Requirement already satisfied: beautifulsoup4 in /usr/local/lib/python3.11/dist-packages (from bs4) (4.13.3)\n",
            "Requirement already satisfied: numpy>=1.23.2 in /usr/local/lib/python3.11/dist-packages (from pandas) (1.26.4)\n",
            "Requirement already satisfied: python-dateutil>=2.8.2 in /usr/local/lib/python3.11/dist-packages (from pandas) (2.8.2)\n",
            "Requirement already satisfied: pytz>=2020.1 in /usr/local/lib/python3.11/dist-packages (from pandas) (2025.1)\n",
            "Requirement already satisfied: tzdata>=2022.7 in /usr/local/lib/python3.11/dist-packages (from pandas) (2025.1)\n",
            "Requirement already satisfied: contourpy>=1.0.1 in /usr/local/lib/python3.11/dist-packages (from matplotlib) (1.3.1)\n",
            "Requirement already satisfied: cycler>=0.10 in /usr/local/lib/python3.11/dist-packages (from matplotlib) (0.12.1)\n",
            "Requirement already satisfied: fonttools>=4.22.0 in /usr/local/lib/python3.11/dist-packages (from matplotlib) (4.56.0)\n",
            "Requirement already satisfied: kiwisolver>=1.3.1 in /usr/local/lib/python3.11/dist-packages (from matplotlib) (1.4.8)\n",
            "Requirement already satisfied: packaging>=20.0 in /usr/local/lib/python3.11/dist-packages (from matplotlib) (24.2)\n",
            "Requirement already satisfied: pillow>=8 in /usr/local/lib/python3.11/dist-packages (from matplotlib) (11.1.0)\n",
            "Requirement already satisfied: pyparsing>=2.3.1 in /usr/local/lib/python3.11/dist-packages (from matplotlib) (3.2.1)\n",
            "Requirement already satisfied: six>=1.5 in /usr/local/lib/python3.11/dist-packages (from python-dateutil>=2.8.2->pandas) (1.17.0)\n",
            "Requirement already satisfied: soupsieve>1.2 in /usr/local/lib/python3.11/dist-packages (from beautifulsoup4->bs4) (2.6)\n",
            "Requirement already satisfied: typing-extensions>=4.0.0 in /usr/local/lib/python3.11/dist-packages (from beautifulsoup4->bs4) (4.12.2)\n",
            "Downloading bs4-0.0.2-py2.py3-none-any.whl (1.2 kB)\n",
            "Building wheels for collected packages: wget\n"
          ]
        }
      ]
    },
    {
      "cell_type": "code",
      "execution_count": null,
      "metadata": {
        "id": "iUPsLhdtVesu"
      },
      "outputs": [],
      "source": [
        "import requests\n",
        "from requests import Response\n",
        "url = 'https://rate.bot.com.tw/xrt?Lang=zh-TW'\n",
        "response = requests.get(url)\n",
        "print(response.text)"
      ]
    },
    {
      "cell_type": "code",
      "source": [
        "from bs4 import BeautifulSoup\n",
        "from pprint import pprint\n",
        "soup = BeautifulSoup(response.text, 'html.parser')\n",
        "\n",
        "# 尋找帶有特定 title 屬性的表格\n",
        "rate_table = soup.find('table', {'title': '牌告匯率'})\n",
        "\n",
        "# 取得所有幣別和現金匯率資料\n",
        "currency_rows = rate_table.tbody.find_all('tr')\n",
        "\n",
        "rates:list[dict] = []\n",
        "\n",
        "for row in currency_rows:\n",
        "    currency_dict = {}\n",
        "    # 取行中的幣別資料\n",
        "    currency = row.find(\"td\", attrs={\"data-table\": \"幣別\"}).find(\"div\", class_=\"visible-phone\").text.strip()\n",
        "    currency_dict[\"幣別\"] = currency\n",
        "\n",
        "    # 取得即期買入匯率\n",
        "    currency_get = row.find(\"td\", attrs={\"data-table\": \"本行現金買入\"}).text.strip()\n",
        "    currency_dict[\"現金買入\"] = currency_get\n",
        "\n",
        "    # 取得即期賣出匯率\n",
        "    currency_send = row.find(\"td\", attrs={\"data-table\": \"本行現金賣出\"}).text.strip()\n",
        "    currency_dict[\"現金賣出\"] = currency_send\n",
        "\n",
        "    #print(f\"幣別: {currency}, 現金買入: {currency_get}, 現金賣出: {currency_send}\")\n",
        "    #print(\"-\" * 60)\n",
        "    rates.append(currency_dict)\n",
        "\n",
        "pprint(rates)"
      ],
      "metadata": {
        "id": "XYCwjeDkVx_4"
      },
      "execution_count": null,
      "outputs": []
    },
    {
      "cell_type": "code",
      "source": [
        "def filter_func(item:dict)->bool:\n",
        "    if item[\"現金買入\"] == \"-\":\n",
        "        return False\n",
        "    else:\n",
        "        return True\n",
        "\n",
        "filtered_rates = list(filter(filter_func,rates))\n",
        "filtered_rates"
      ],
      "metadata": {
        "id": "-Hg5zcR7V5O8"
      },
      "execution_count": null,
      "outputs": []
    },
    {
      "cell_type": "code",
      "source": [
        "def map_func(item:dict)->dict:\n",
        "    item[\"現金買入\"] = float(item[\"現金買入\"])\n",
        "    item[\"現金賣出\"] = float(item[\"現金賣出\"])\n",
        "    return item\n",
        "\n",
        "cleared_list= list(map(map_func,filtered_rates))\n",
        "cleared_list"
      ],
      "metadata": {
        "id": "Po-3hE0vV_r7"
      },
      "execution_count": null,
      "outputs": []
    },
    {
      "cell_type": "code",
      "source": [
        "import pandas as pd\n",
        "df = pd.DataFrame(cleared_list)\n",
        "df = df.sort_values(by=\"現金買入\",ascending=False)\n",
        "df.head()"
      ],
      "metadata": {
        "id": "0BbShdQRWCWS"
      },
      "execution_count": null,
      "outputs": []
    },
    {
      "cell_type": "code",
      "source": [
        "import matplotlib.pyplot as plt\n",
        "df['現金買入'].plot(kind='bar')\n",
        "plt.show()"
      ],
      "metadata": {
        "id": "yXE472JwWLSl"
      },
      "execution_count": null,
      "outputs": []
    },
    {
      "cell_type": "code",
      "source": [
        "df['幣別'].apply(lambda x: x.split()[-1])"
      ],
      "metadata": {
        "id": "fTx0KcVpWVO8"
      },
      "execution_count": null,
      "outputs": []
    },
    {
      "cell_type": "code",
      "source": [
        "import wget\n",
        "wget.download('https://github.com/roberthsu2003/__2025_01_04_chihlee__/raw/refs/heads/main/ChineseFont.ttf')\n"
      ],
      "metadata": {
        "id": "zkQdOG5bavMg"
      },
      "execution_count": null,
      "outputs": []
    },
    {
      "cell_type": "code",
      "source": [
        "import matplotlib.pyplot as plt\n",
        "from matplotlib.font_manager import fontManager\n",
        "import matplotlib as mlp\n",
        "fontManager.addfont('ChineseFont.ttf')\n",
        "mlp.rc('font', family='ChineseFont')\n",
        "# 1.製作figure\n",
        "fig = plt.figure(figsize=(10, 5))\n",
        "ax_1 = fig.add_subplot(1, 1, 1)\n",
        "ax_1.bar(df['幣別'].apply(lambda x: x.split()[-1]),df['現金買入'])\n",
        "ax_1.set_title('貨幣買賣匯率')\n",
        "ax_1.set_xlabel('貨幣')\n",
        "ax_1.set_ylabel('匯率(NTD)')\n",
        "plt.show()"
      ],
      "metadata": {
        "id": "0FjT204wWXPI"
      },
      "execution_count": null,
      "outputs": []
    }
  ]
}